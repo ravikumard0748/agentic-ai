{
 "cells": [
  {
   "cell_type": "code",
   "execution_count": 23,
   "id": "d447be5f",
   "metadata": {},
   "outputs": [
    {
     "data": {
      "text/plain": [
       "True"
      ]
     },
     "execution_count": 23,
     "metadata": {},
     "output_type": "execute_result"
    }
   ],
   "source": [
    "import os\n",
    "from dotenv import load_dotenv\n",
    "load_dotenv()\n"
   ]
  },
  {
   "cell_type": "code",
   "execution_count": 24,
   "id": "ae4aad23",
   "metadata": {},
   "outputs": [],
   "source": [
    "from huggingface_hub import InferenceClient\n",
    "model = 'mistralai/Mistral-7B-Instruct-v0.3'\n",
    "Cbot = InferenceClient(api_key = os.getenv(\"HF_TOKEN\"),model = model )"
   ]
  },
  {
   "cell_type": "code",
   "execution_count": 25,
   "id": "434d4f81",
   "metadata": {},
   "outputs": [],
   "source": [
    "sys_prompt = \"\"\"\n",
    "\n",
    "You are Best Competitive Programmer You need to give the Coding for the Question Given by the User.\n",
    "* Read the Question carefully You need to Provide the Optimized Solution based on the Question  Constraints\n",
    "* Provide the Best Solution and try to minimize the Time and space Complexity of the Program\n",
    "\n",
    "\n",
    "\"\"\"\n",
    "ques = input(\"Enter YOur Question: \")\n",
    "user_propmt = f\"\"\"GIve the Solution For the Given Question{ques} in Cpp \"\"\""
   ]
  },
  {
   "cell_type": "code",
   "execution_count": 26,
   "id": "5231ff06",
   "metadata": {},
   "outputs": [],
   "source": [
    "messages = [\n",
    "    {\"role\":\"System\",\"content\": sys_prompt},\n",
    "    {\"role\":\"user\",\"content\":user_propmt}\n",
    "]"
   ]
  },
  {
   "cell_type": "code",
   "execution_count": 27,
   "id": "890e7ba6",
   "metadata": {},
   "outputs": [
    {
     "name": "stdout",
     "output_type": "stream",
     "text": [
      "ChatCompletionOutput(choices=[ChatCompletionOutputComplete(finish_reason='stop', index=0, message=ChatCompletionOutputMessage(role='assistant', content=' Here is a simple implementation of the Euclidean Algorithm in C++. This function calculates the greatest common divisor (GCD) of two numbers.\\n\\n```cpp\\n#include<iostream>\\nusing namespace std;\\n\\nint gcd(int a, int b) {\\n    if (b == 0)\\n        return a;\\n    else\\n        return gcd(b, a % b);\\n}\\n\\nint main() {\\n    int a, b;\\n    cout << \"Enter two numbers: \";\\n    cin >> a >> b;\\n    cout << \"GCD of \" << a << \" and \" << b << \" is \" << gcd(a, b) << endl;\\n    return 0;\\n}\\n```\\n\\nThis program asks for two numbers as input and calculates their GCD using the Euclidean Algorithm. The function `gcd(a, b)` is recursive and keeps calling itself until `b` becomes zero, at which point `a` is the GCD.', tool_call_id=None, tool_calls=[]), logprobs=None, seed=17030997652056404000)], created=1756699465, id='o9SWwYr-4YNCb4-9781e229efc7c0d6', model='mistralai/Mistral-7B-Instruct-v0.3', system_fingerprint=None, usage=ChatCompletionOutputUsage(completion_tokens=231, prompt_tokens=23, total_tokens=254, cached_tokens=0), object='chat.completion', prompt=[])\n"
     ]
    }
   ],
   "source": [
    "ans = Cbot.chat_completion(messages = messages, max_tokens= 800)\n",
    "print(ans)"
   ]
  },
  {
   "cell_type": "code",
   "execution_count": 28,
   "id": "6c3ff242",
   "metadata": {},
   "outputs": [
    {
     "name": "stdout",
     "output_type": "stream",
     "text": [
      "ChatCompletionOutput(choices=[ChatCompletionOutputComplete(finish_reason='stop', index=0, message=ChatCompletionOutputMessage(role='assistant', content=' Here is a simple implementation of the Euclidean Algorithm in C++. This function calculates the greatest common divisor (GCD) of two numbers.\\n\\n```cpp\\n#include<iostream>\\nusing namespace std;\\n\\nint gcd(int a, int b) {\\n    if (b == 0)\\n        return a;\\n    else\\n        return gcd(b, a % b);\\n}\\n\\nint main() {\\n    int a, b;\\n    cout << \"Enter two numbers: \";\\n    cin >> a >> b;\\n    cout << \"GCD of \" << a << \" and \" << b << \" is \" << gcd(a, b) << endl;\\n    return 0;\\n}\\n```\\n\\nThis program asks for two numbers as input and calculates their GCD using the Euclidean Algorithm. The function `gcd(a, b)` is recursive and keeps calling itself until `b` becomes zero, at which point `a` is the GCD.', tool_call_id=None, tool_calls=[]), logprobs=None, seed=17030997652056404000)], created=1756699465, id='o9SWwYr-4YNCb4-9781e229efc7c0d6', model='mistralai/Mistral-7B-Instruct-v0.3', system_fingerprint=None, usage=ChatCompletionOutputUsage(completion_tokens=231, prompt_tokens=23, total_tokens=254, cached_tokens=0), object='chat.completion', prompt=[])\n"
     ]
    }
   ],
   "source": [
    "print(ans,sep=\"\\n\")"
   ]
  },
  {
   "cell_type": "code",
   "execution_count": 29,
   "id": "d850045f",
   "metadata": {},
   "outputs": [],
   "source": [
    "def extract_text(resp):\n",
    "  try:\n",
    "    return resp.choices[0].message.content\n",
    "  except Exception:\n",
    "    try:\n",
    "      return resp['choices'][0]['message']['content']\n",
    "    except:\n",
    "      return str(resp)"
   ]
  },
  {
   "cell_type": "code",
   "execution_count": 30,
   "id": "47467f7c",
   "metadata": {},
   "outputs": [],
   "source": [
    "ans = extract_text(ans)\n",
    "final_ans = \"Hey Answer For Your Question is here\\n\\n\" + 25 * \"-\" + ans + 25 * \"-\" "
   ]
  },
  {
   "cell_type": "code",
   "execution_count": null,
   "id": "dc92c2f1",
   "metadata": {},
   "outputs": [
    {
     "name": "stdout",
     "output_type": "stream",
     "text": [
      "Message SID: SM2839ae8898475fbee090cb3ffddfd269\n"
     ]
    }
   ],
   "source": [
    "import os\n",
    "from dotenv import load_dotenv\n",
    "load_dotenv()\n",
    "from twilio.rest import Client\n",
    "\n",
    "\n",
    "account_sid = os.getenv(\"TWILIO_ACCOUNT_SID\")\n",
    "auth_token = os.getenv(\"TWILIO_AUTH_TOKEN\")\n",
    "\n",
    "client = Client(account_sid, auth_token)\n",
    "\n",
    "# Send a WhatsApp message\n",
    "message = client.messages.create(\n",
    "    from_=\"whatsapp:+14155238886\",   \n",
    "    body=final_ans[:1500],\n",
    "    to=\"whatsapp:+918825677072\"      \n",
    ")\n",
    "\n",
    "print(\"Message SID:\", message.sid)\n"
   ]
  },
  {
   "cell_type": "code",
   "execution_count": null,
   "id": "63af0950",
   "metadata": {},
   "outputs": [],
   "source": []
  }
 ],
 "metadata": {
  "kernelspec": {
   "display_name": "venv",
   "language": "python",
   "name": "python3"
  },
  "language_info": {
   "codemirror_mode": {
    "name": "ipython",
    "version": 3
   },
   "file_extension": ".py",
   "mimetype": "text/x-python",
   "name": "python",
   "nbconvert_exporter": "python",
   "pygments_lexer": "ipython3",
   "version": "3.12.3"
  }
 },
 "nbformat": 4,
 "nbformat_minor": 5
}
