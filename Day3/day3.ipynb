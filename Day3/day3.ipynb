{
 "cells": [
  {
   "cell_type": "markdown",
   "id": "5b46eff7",
   "metadata": {},
   "source": [
    "Prompts"
   ]
  },
  {
   "cell_type": "code",
   "execution_count": 7,
   "id": "1dec96f1",
   "metadata": {},
   "outputs": [
    {
     "data": {
      "text/plain": [
       "True"
      ]
     },
     "execution_count": 7,
     "metadata": {},
     "output_type": "execute_result"
    }
   ],
   "source": [
    "import os\n",
    "from dotenv import load_dotenv\n",
    "from langchain_groq import ChatGroq\n",
    "from langchain.prompts import PromptTemplate\n",
    "from langchain.chains import LLMChain,SimpleSequentialChain,ConversationChain,SequentialChain\n",
    "from langchain.memory import ConversationBufferMemory\n",
    "from langchain.agents import load_tools,initialize_agent,AgentType\n",
    "load_dotenv()"
   ]
  },
  {
   "cell_type": "code",
   "execution_count": 8,
   "id": "a7271305",
   "metadata": {},
   "outputs": [],
   "source": [
    "llm = ChatGroq(model =\"llama3-8b-8192\",api_key=os.getenv(\"GROQ_API_KEY\"))"
   ]
  },
  {
   "cell_type": "markdown",
   "id": "a53ac482",
   "metadata": {},
   "source": [
    "# simple Propmpt"
   ]
  },
  {
   "cell_type": "code",
   "execution_count": null,
   "id": "ded9af1f",
   "metadata": {},
   "outputs": [],
   "source": [
    "# prompt = P"
   ]
  },
  {
   "cell_type": "markdown",
   "id": "83b04722",
   "metadata": {},
   "source": [
    "# moRE STTRUCTERED PROMPT"
   ]
  },
  {
   "cell_type": "code",
   "execution_count": null,
   "id": "cd36b083",
   "metadata": {},
   "outputs": [
    {
     "name": "stdout",
     "output_type": "stream",
     "text": [
      "Black holes! The ultimate party crashers of the universe. They just show up, uninvited, and suck all the fun out of the room.\n",
      "\n",
      "Imagine you're having a blast at a cosmic rave, dancing to the tunes of gravitational waves and sipping on a star-tini. But then, BAM! A black hole bursts through the door, its event horizon flashing like a strobe light, and suddenly, the party's over. Poof! All the fun, gone.\n",
      "\n",
      "But why do black holes do this? Well, it's because they're just a little... intense. Like that one friend who always has to be the center of attention. They're so dense, they warp space-time around them, creating a gravitational pull that's like a cosmic vacuum cleaner. Anything that gets too close, including light, gets sucked in and never comes out. Talk about a buzzkill!\n",
      "\n",
      "And don't even get me started on their famous \"singularity\" – it's like the black hole's version of a perpetual motion machine. Nothing can escape, not even a single photon of light. It's like the universe's most epic, cosmic traffic jam.\n",
      "\n",
      "But here's the thing: black holes aren't all bad. In fact, they're kind of... cool. Like that one friend who's a little weird, but in a good way. They're the ultimate cosmic enigma, a mystery that scientists are still trying to unravel. And who knows, maybe one day we'll figure out how to harness their power and create a universe-sized game of cosmic pool.\n",
      "\n",
      "So, the next time you're out stargazing and you see a black hole looming in the distance, just remember: it's not all doom and gloom. It's just a party animal that's a little too enthusiastic about its gravitational pull.\n"
     ]
    }
   ],
   "source": [
    "prompts = PromptTemplate(\n",
    "    input_variables=[\"topic\",\"style\"],\n",
    "    template = \"Explain {topic} in {style} style\"\n",
    "    \n",
    ")\n",
    "\n",
    "chain = LLMChain(llm = llm ,prompt = prompts)\n",
    "\n",
    "print(chain.run({\"topic\" : \"blackholes\",\"style\" : \"funny\"}))"
   ]
  },
  {
   "cell_type": "markdown",
   "id": "048448d4",
   "metadata": {},
   "source": [
    "# instruction based model"
   ]
  },
  {
   "cell_type": "code",
   "execution_count": null,
   "id": "a8c5e49a",
   "metadata": {},
   "outputs": [
    {
     "name": "stdout",
     "output_type": "stream",
     "text": [
      "Hello there! I'm so excited to explain gravity to you!\n",
      "\n",
      "Gravity is a fundamental force of nature that helps keep us on the ground and makes things fall towards the center of the Earth. But what exactly is gravity, and how does it work?\n",
      "\n",
      "Imagine you're playing with a ball on the playground. You throw the ball up in the air, and what happens? It comes back down, right? That's because the Earth is pulling on the ball with an invisible force called gravity. The Earth is like a big magnet, and it's pulling everything towards it, including you!\n",
      "\n",
      "But why does the Earth do this? Well, it's because the Earth is a massive object with a lot of mass (that's a fancy word for \"stuff\"). And anything that has mass, including you and me, has its own gravity. But the Earth's mass is so much bigger than ours that its gravity is much stronger. That's why we don't float off into space when we're standing on the ground.\n",
      "\n",
      "Gravity is also what keeps us on the ground when we're walking or running. It's like the Earth is giving us a big hug, and we're stuck to it. That's why we don't fall off the Earth when we're moving around. We're always being pulled towards the center of the planet.\n",
      "\n",
      "Gravity is also responsible for the tides. You know how the ocean water seems to come in and out of the shore? That's because the Earth's gravity is pulling on the water, making it bulge out in certain areas. It's like the Earth is giving the ocean a big hug, and the water is squishing out in response.\n",
      "\n",
      "So, to sum it up, gravity is a force that helps keep us on the ground, makes things fall towards the center of the Earth, and is responsible for the tides. It's an amazing force that helps us stay connected to our planet!\n",
      "\n",
      "Do you have any questions about gravity?\n"
     ]
    }
   ],
   "source": [
    "prompt = PromptTemplate.from_template(\n",
    "    \"You are a teacher . Explain {concept} to a 10-year odd\"\n",
    "    \n",
    "    )\n",
    "\n",
    "chain = LLMChain(llm = llm , prompt = prompt)\n",
    "\n",
    "print(chain.run({\"concept\":\"gravity\"}))"
   ]
  },
  {
   "cell_type": "markdown",
   "id": "76306ed3",
   "metadata": {},
   "source": [
    "# Chains-> simple chain like connection between the one output of the llm to saqme mext llmm"
   ]
  },
  {
   "cell_type": "code",
   "execution_count": null,
   "id": "87c37d90",
   "metadata": {},
   "outputs": [],
   "source": []
  },
  {
   "cell_type": "code",
   "execution_count": null,
   "id": "0c7e46b6",
   "metadata": {},
   "outputs": [
    {
     "name": "stdout",
     "output_type": "stream",
     "text": [
      "Nice to meet you! I'm thrilled to introduce myself as a top-notch competitive programmer and a seasoned expert in the Python language. With years of experience in coding challenges, hackathons, and coding competitions, I've honed my skills to deliver high-quality, efficient, and robust solutions.\n",
      "\n",
      "As a competitive programmer, I've participated in numerous international coding competitions, including the ACM ICPC World Finals, Google Code Jam, and HackerRank's Top 100. My expertise lies in solving complex problems, optimizing code, and developing innovative algorithms.\n",
      "\n",
      "Here are some of my key strengths:\n",
      "\n",
      "1. **Python Mastery**: I'm extremely proficient in Python 3.x, with a deep understanding of its syntax, semantics, and libraries. I can write elegant, readable, and efficient code using Python's vast ecosystem.\n",
      "2. **Algorithmic Thinking**: I've developed a strong foundation in algorithms, data structures, and computational complexity. I can design and implement algorithms for solving problems efficiently, including dynamic programming, graph theory, and string processing.\n",
      "3. **Problem-Solving Skills**: I've got a keen eye for spotting patterns, identifying edge cases, and solving problems under tight deadlines. I'm accustomed to breaking down complex problems into smaller, manageable parts and tackling them one by one.\n",
      "4. **Code Optimization**: I'm always looking for ways to improve code performance, readability, and maintainability. I'm familiar with various optimization techniques, including memoization, caching, and parallel processing.\n",
      "5. **Collaboration and Communication**: As a competitive programmer, I've worked with many teammates and mentors, honing my communication skills to effectively explain complex ideas, provide feedback, and collaborate on solutions.\n",
      "\n",
      "Some of the problem domains I'm well-versed in include:\n",
      "\n",
      "* Algorithmic challenges (e.g., graph traversal, dynamic programming, bit manipulation)\n",
      "* Data structures (e.g., arrays, linked lists, trees, graphs)\n",
      "* String processing (e.g., pattern matching, compression, parsing)\n",
      "* Number theory (e.g., prime numbers, modular arithmetic, combinatorics)\n",
      "* Geometric algorithms (e.g., convex hull, closest pairs, visibility graphs)\n",
      "\n",
      "Feel free to challenge me with a problem, and I'll do my best to provide a creative, efficient, and well-documented solution!\n",
      "******************************\n",
      "I'd be delighted to help you with the Sudoku validation problem in Python. Here's an efficient solution that utilizes sets to keep track of the digits in each row, column, and 3x3 sub-box:\n",
      "\n",
      "```python\n",
      "def isValidSudoku(board):\n",
      "    rows = [set() for _ in range(9)]\n",
      "    cols = [set() for _ in range(9)]\n",
      "    boxes = [set() for _ in range(9)]\n",
      "\n",
      "    for i in range(9):\n",
      "        for j in range(9):\n",
      "            if board[i][j] == \".\":\n",
      "                continue\n",
      "\n",
      "            val = int(board[i][j])\n",
      "            idx = (i // 3) * 3 + j // 3\n",
      "            if val in rows[i] or val in cols[j] or val in boxes[idx]:\n",
      "                return False\n",
      "\n",
      "            rows[i].add(val)\n",
      "            cols[j].add(val)\n",
      "            boxes[idx].add(val)\n",
      "\n",
      "    return True\n",
      "```\n",
      "\n",
      "Here's a breakdown of the code:\n",
      "\n",
      "1. We initialize three lists of sets: `rows`, `cols`, and `boxes`. Each set will store the digits encountered in each row, column, and 3x3 sub-box, respectively.\n",
      "2. We iterate through the Sudoku board, checking each cell. If the cell is empty (represented by \". \"), we skip it.\n",
      "3. For each non-empty cell, we extract the digit `val` and calculate the index `idx` of the corresponding 3x3 sub-box.\n",
      "4. We check if `val` is already present in the current row, column, or sub-box. If it is, we return `False`, indicating that the Sudoku board is invalid.\n",
      "5. If `val` is not present in any of the sets, we add it to the corresponding sets for the row, column, and sub-box.\n",
      "6. Finally, if we reach the end of the loop without returning `False`, we return `True`, indicating that the Sudoku board is valid.\n",
      "\n",
      "This solution has a time complexity of O(1) since we only iterate through the board once, and a space complexity of O(1) since we only use a fixed amount of memory to store the sets.\n",
      "\n",
      "Feel free to test the function with your example inputs or create your own Sudoku boards to validate!\n",
      "******************************\n",
      "This code is a solution to the Sudoku validation problem in Python. The Sudoku board is represented as a 9x9 2D list, where each cell can be either a digit from 1 to 9, or a dot (\".\") to represent an empty cell.\n",
      "\n",
      "Here's a step-by-step explanation of how the code works:\n",
      "\n",
      "1. The function `isValidSudoku` takes a Sudoku board as input and returns a boolean value indicating whether the board is valid or not.\n",
      "\n",
      "2. The code initializes three lists of sets: `rows`, `cols`, and `boxes`. These sets are used to keep track of the digits that have been encountered in each row, column, and 3x3 sub-box, respectively.\n",
      "\n",
      "3. The code then iterates through each cell in the Sudoku board. For each cell, it checks if the cell is empty (represented by \".\").\n",
      "\n",
      "4. If the cell is not empty, the code extracts the digit `val` from the cell and calculates the index `idx` of the corresponding 3x3 sub-box.\n",
      "\n",
      "5. The code then checks if `val` is already present in the current row, column, or sub-box. If it is, the function returns `False` to indicate that the Sudoku board is invalid.\n",
      "\n",
      "6. If `val` is not present in any of the sets, the code adds it to the corresponding sets for the row, column, and sub-box.\n",
      "\n",
      "7. If the function completes the iteration without returning `False`, it returns `True` to indicate that the Sudoku board is valid.\n",
      "\n",
      "The time complexity of this solution is O(1) because it only iterates through the board once, and the space complexity is also O(1) because it only uses a fixed amount of memory to store the sets.\n",
      "\n",
      "This solution is efficient because it only checks each digit once in each row, column, and sub-box. It does not need to check each digit multiple times, which would increase the time complexity.\n"
     ]
    }
   ],
   "source": [
    "f_chain = LLMChain(llm = llm , prompt = PromptTemplate.from_template(\"You Are an Best Compettive Programmer and Expert in the {language} language\"),output_key = \"fout\")\n",
    "s_chain = LLMChain(llm = llm , prompt = PromptTemplate.from_template(\"{question}  Read the above question carefully and give the code by focusing on the constraints,memorey and time limits and Provide the efficeint solution  and provide the Code in {fout}\"),output_key = \"sout\")\n",
    "t_chain = LLMChain(llm = llm , prompt = PromptTemplate.from_template(\"Summarize the {sout}above Code for the one who with {level} knowledge in this context\"),output_key = \"tout\")\n",
    "\n",
    "seq = SequentialChain(chains = [f_chain,s_chain,t_chain],input_variables=[\"language\",\"question\",\"level\"],output_variables=[\"fout\",\"sout\",\"tout\"])\n",
    "\n",
    "out  = seq.invoke({\"language\" : \"python\" , \"question\" : output, \"level\":\"medium\"})\n",
    "\n",
    "\n",
    "\n",
    "\n",
    "print(out[\"fout\"])\n",
    "print(30*\"*\")\n",
    "print(out[\"sout\"])\n",
    "print(30*\"*\")\n",
    "print(out[\"tout\"])\n",
    "\n"
   ]
  },
  {
   "cell_type": "code",
   "execution_count": null,
   "id": "edb35051",
   "metadata": {},
   "outputs": [],
   "source": [
    "output = \"\"\"\n",
    "\n",
    "etermine if a 9 x 9 Sudoku board is valid. Only the filled cells need to be validated according to the following rules:\n",
    "\n",
    "Each row must contain the digits 1-9 without repetition.\n",
    "Each column must contain the digits 1-9 without repetition.\n",
    "Each of the nine 3 x 3 sub-boxes of the grid must contain the digits 1-9 without repetition.\n",
    "Note:\n",
    "\n",
    "A Sudoku board (partially filled) could be valid but is not necessarily solvable.\n",
    "Only the filled cells need to be validated according to the mentioned rules.\n",
    " \n",
    "\n",
    "Example 1:\n",
    "\n",
    "\n",
    "Input: board = \n",
    "[[\"5\",\"3\",\".\",\".\",\"7\",\".\",\".\",\".\",\".\"]\n",
    ",[\"6\",\".\",\".\",\"1\",\"9\",\"5\",\".\",\".\",\".\"]\n",
    ",[\".\",\"9\",\"8\",\".\",\".\",\".\",\".\",\"6\",\".\"]\n",
    ",[\"8\",\".\",\".\",\".\",\"6\",\".\",\".\",\".\",\"3\"]\n",
    ",[\"4\",\".\",\".\",\"8\",\".\",\"3\",\".\",\".\",\"1\"]\n",
    ",[\"7\",\".\",\".\",\".\",\"2\",\".\",\".\",\".\",\"6\"]\n",
    ",[\".\",\"6\",\".\",\".\",\".\",\".\",\"2\",\"8\",\".\"]\n",
    ",[\".\",\".\",\".\",\"4\",\"1\",\"9\",\".\",\".\",\"5\"]\n",
    ",[\".\",\".\",\".\",\".\",\"8\",\".\",\".\",\"7\",\"9\"]]\n",
    "Output: true\n",
    "Example 2:\n",
    "\n",
    "Input: board = \n",
    "[[\"8\",\"3\",\".\",\".\",\"7\",\".\",\".\",\".\",\".\"]\n",
    ",[\"6\",\".\",\".\",\"1\",\"9\",\"5\",\".\",\".\",\".\"]\n",
    ",[\".\",\"9\",\"8\",\".\",\".\",\".\",\".\",\"6\",\".\"]\n",
    ",[\"8\",\".\",\".\",\".\",\"6\",\".\",\".\",\".\",\"3\"]\n",
    ",[\"4\",\".\",\".\",\"8\",\".\",\"3\",\".\",\".\",\"1\"]\n",
    ",[\"7\",\".\",\".\",\".\",\"2\",\".\",\".\",\".\",\"6\"]\n",
    ",[\".\",\"6\",\".\",\".\",\".\",\".\",\"2\",\"8\",\".\"]\n",
    ",[\".\",\".\",\".\",\"4\",\"1\",\"9\",\".\",\".\",\"5\"]\n",
    ",[\".\",\".\",\".\",\".\",\"8\",\".\",\".\",\"7\",\"9\"]]\n",
    "Output: false\n",
    "Explanation: Same as Example 1, except with the 5 in the top left corner being modified to 8. Since there are two 8's in the top left 3x3 sub-box, it is invalid.\n",
    " \n",
    "\n",
    "\"\"\"\n"
   ]
  },
  {
   "cell_type": "markdown",
   "id": "27530876",
   "metadata": {},
   "source": [
    "# Conversatitonal memory"
   ]
  },
  {
   "cell_type": "code",
   "execution_count": null,
   "id": "b9e6a1db",
   "metadata": {},
   "outputs": [
    {
     "name": "stdout",
     "output_type": "stream",
     "text": [
      "Nice to meet you, Ravi! I'm an AI designed by a team of researcher at Meta AI, and I've been trained on a massive corpus of text data, including books, articles, and websites. I can process and generate human-like language, and I'm constantly learning and improving my abilities. By the way, \"darkcoder\" is an interesting handle - are you a developer or a hobbyist with a passion for coding?\n",
      "****************************************************************************************************\n",
      "Based on our conversation so far, I recall that your name is Ravi, and you introduced yourself as a \"darkcoder\". As for your work, you didn't mention a specific job title or industry, but you mentioned \"darkcoder\", which suggests that you might have a background or interest in computer programming or coding. Am I correct in assuming that you're a developer or a programmer, Ravi?\n"
     ]
    }
   ],
   "source": [
    "from langchain.chains import ConversationChain\n",
    "from langchain.memory import ConversationBufferMemory\n",
    "\n",
    "memory = ConversationBufferMemory()\n",
    "chat = ConversationChain(llm = llm ,memory = memory)\n",
    "\n",
    "print(chat.run(\"Hey I am Ravi an darkcoder, always code in dark environment\"))\n",
    "print(100*\"*\")\n",
    "print(chat.run(\"Tell what  is my name and my work\"))"
   ]
  },
  {
   "cell_type": "markdown",
   "id": "fb71c49c",
   "metadata": {},
   "source": []
  },
  {
   "cell_type": "code",
   "execution_count": null,
   "id": "dc210dc7",
   "metadata": {},
   "outputs": [],
   "source": [
    "from langchain.memory import ConversationBufferMemory\n",
    "from langchain.chains import ConversationChain\n",
    "from langchain.prompts import PromptTemplate\n",
    "\n",
    "memory = ConversationBufferMemory(memory_key  = \"history\")\n",
    "\n",
    "prompt = PromptTemplate.from_template(\n",
    "    \"We are chatting.\\n\\n conversation os far : \\n {history} \\n\\n user said : {input} \"\n",
    ")\n"
   ]
  },
  {
   "cell_type": "code",
   "execution_count": null,
   "id": "c4b7e38a",
   "metadata": {},
   "outputs": [
    {
     "name": "stdout",
     "output_type": "stream",
     "text": [
      "\n",
      "\n",
      "\u001b[1m> Entering new ConversationChain chain...\u001b[0m\n",
      "Prompt after formatting:\n",
      "\u001b[32;1m\u001b[1;3mWe are chatting.\n",
      "\n",
      " conversation os far : \n",
      "  \n",
      "\n",
      " user said : i am ravikumar an darkcoder who always code in the dark environment  \u001b[0m\n",
      "\n",
      "\u001b[1m> Finished chain.\u001b[0m\n",
      "That's quite an interesting fact about yourself, Ravikumar! So, you code in the dark, huh? I'm curious, what's the reason behind that? Is it to focus better, or is there something else you're trying to achieve?\n",
      "\n",
      "\n",
      "\u001b[1m> Entering new ConversationChain chain...\u001b[0m\n",
      "Prompt after formatting:\n",
      "\u001b[32;1m\u001b[1;3mWe are chatting.\n",
      "\n",
      " conversation os far : \n",
      " Human: i am ravikumar an darkcoder who always code in the dark environment \n",
      "AI: That's quite an interesting fact about yourself, Ravikumar! So, you code in the dark, huh? I'm curious, what's the reason behind that? Is it to focus better, or is there something else you're trying to achieve? \n",
      "\n",
      " user said : What is my name \u001b[0m\n",
      "\n",
      "\u001b[1m> Finished chain.\u001b[0m\n",
      "Your name is Ravikumar, and you're a darkcoder who codes in the dark environment!\n"
     ]
    }
   ],
   "source": [
    "chat_with_memory = ConversationChain(llm = llm , prompt = prompt , memory = memory,verbose = True)\n",
    "about = input(\"Tell About Yourself\")\n",
    "print(chat_with_memory.run({\"input\": about}))\n",
    "print(chat_with_memory.run({\"input\" : \"What is my name\"}))\n"
   ]
  },
  {
   "cell_type": "markdown",
   "id": "a2973e83",
   "metadata": {},
   "source": []
  },
  {
   "cell_type": "code",
   "execution_count": null,
   "id": "296d3a13",
   "metadata": {},
   "outputs": [],
   "source": [
    "from langchain_community.embeddings import HuggingFaceEmbeddings\n",
    "from langchain_community.vectorstores import FAISS\n",
    "from langchain.chains import RetrievalQA\n",
    "from langchain_community.tools import Tool\n",
    "from langchain.agents import initialize_agent , AgentType\n",
    "\n",
    "\n",
    "texts = [\n",
    "    \"The Sun is star\",\n",
    "    \"The Eart orbits the sun\",\n",
    "    \"cats are playful animals\"\n",
    "]\n",
    "\n",
    "embedder = HuggingFaceEmbeddings(model_name = \"sentence-transformers/all-MiniLM-L6-v2\")\n",
    "db = FAISS.from_texts(texts, embedder)\n",
    "retriver = db.as_retriever()\n",
    "qp_chain = RetrievalQA.from_chain_type(llm = llm , retriever = retriver)\n",
    "tools = [\n",
    "    Tool(\n",
    "        name = \"knowledge_base\",\n",
    "        func = qp_chain.run,\n",
    "        description=\"Answer question from the stored knowledge\"\n",
    "        \n",
    "    )\n",
    "]\n",
    "agent = initialize_agent(\n",
    "    tools,\n",
    "    llm,\n",
    "    agent = AgentType.ZERO_SHOT_REACT_DESCRIPTION,\n",
    "    Verbose = True\n",
    ")\n",
    "print(agent.run(\"Tell me something about cats \"))"
   ]
  },
  {
   "cell_type": "code",
   "execution_count": null,
   "id": "f879f2ce",
   "metadata": {},
   "outputs": [],
   "source": []
  }
 ],
 "metadata": {
  "kernelspec": {
   "display_name": "venv",
   "language": "python",
   "name": "python3"
  },
  "language_info": {
   "codemirror_mode": {
    "name": "ipython",
    "version": 3
   },
   "file_extension": ".py",
   "mimetype": "text/x-python",
   "name": "python",
   "nbconvert_exporter": "python",
   "pygments_lexer": "ipython3",
   "version": "3.12.3"
  }
 },
 "nbformat": 4,
 "nbformat_minor": 5
}
